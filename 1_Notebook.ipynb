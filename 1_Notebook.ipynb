{
 "cells": [
  {
   "cell_type": "markdown",
   "id": "d29900f9-7202-406c-8049-ad3f61b493fd",
   "metadata": {},
   "source": [
    "# Data Science Tools and Ecosystem "
   ]
  },
  {
   "cell_type": "markdown",
   "id": "cf47cb12-e20f-4f35-b798-b98e59121556",
   "metadata": {},
   "source": [
    "## In this notebook, Data Science Tools and Ecosystem are summarized."
   ]
  },
  {
   "cell_type": "markdown",
   "id": "a2a43354-85f9-43a5-abe3-8f5314ec2bcc",
   "metadata": {},
   "source": [
    "### Some of the popular languages that Data Scientists use are:"
   ]
  },
  {
   "cell_type": "markdown",
   "id": "a4517dbf-06c2-435b-92a1-a803cce0dce7",
   "metadata": {},
   "source": [
    "#### Ordered list \n",
    "1. Python\n",
    "2. SQL\n",
    "3. R"
   ]
  },
  {
   "cell_type": "markdown",
   "id": "6a9f7e4f-c9ff-401b-89d3-2f574fcca8c6",
   "metadata": {},
   "source": [
    "#### Some of the commonly used libraries used by Data Scientists include:\n",
    "1. NumPy\n",
    "2. Pandas\n",
    "3. Seaborn\n",
    "4. Matplotlib\n",
    "5. ggplot2\n",
    "6. TensorFlow"
   ]
  },
  {
   "cell_type": "markdown",
   "id": "a7115062-8e6c-4549-b3f6-dcf4331f8fd4",
   "metadata": {},
   "source": [
    "### Create a markdown cell with a table of Data Science tools\n",
    "\n",
    "|Data Science Tools|\n",
    "|------------------|\n",
    "|Jupyter Lab       |\n",
    "|R                 |\n",
    "|Spyder            |"
   ]
  },
  {
   "cell_type": "markdown",
   "id": "4a3b45eb-46bc-4f01-ab34-d50e500470ae",
   "metadata": {},
   "source": [
    "### Below are a few examples of evaluating arithmetic expressions in Python"
   ]
  },
  {
   "cell_type": "markdown",
   "id": "736ec3dc-87f8-4aba-881c-56e4e1e9a6b5",
   "metadata": {},
   "source": [
    "##### This a simple arithmetic expression to mutiply then add integers."
   ]
  },
  {
   "cell_type": "code",
   "execution_count": 14,
   "id": "ac56ea9a-54c8-4a54-a03c-29602da7ffee",
   "metadata": {},
   "outputs": [
    {
     "data": {
      "text/plain": [
       "17"
      ]
     },
     "execution_count": 14,
     "metadata": {},
     "output_type": "execute_result"
    }
   ],
   "source": [
    "(3*4)+5"
   ]
  },
  {
   "cell_type": "markdown",
   "id": "9c24f153-b2b5-4b75-bdcb-f4c223cf83e3",
   "metadata": {},
   "source": [
    "##### Create a code cell to convert minutes to hours\n"
   ]
  },
  {
   "cell_type": "code",
   "execution_count": 17,
   "id": "9f5575fc-2126-4693-bada-298c30b08604",
   "metadata": {},
   "outputs": [
    {
     "data": {
      "text/plain": [
       "3.3333333333333335"
      ]
     },
     "execution_count": 17,
     "metadata": {},
     "output_type": "execute_result"
    }
   ],
   "source": [
    "200/60"
   ]
  },
  {
   "cell_type": "markdown",
   "id": "860c6d5a-9022-473b-a5cb-2a7b4f7b7bf1",
   "metadata": {},
   "source": [
    "### List popular languages for Data Science\n",
    "* R\n",
    "* Python\n",
    "* SQL"
   ]
  },
  {
   "cell_type": "markdown",
   "id": "d376485c-60f9-47b8-ac60-1a5edb53f55e",
   "metadata": {},
   "source": [
    "## Name of Author : Maliha Jainab"
   ]
  },
  {
   "cell_type": "code",
   "execution_count": null,
   "id": "765a8152-0ab6-4a8f-a5e5-f8ae8b28612a",
   "metadata": {},
   "outputs": [],
   "source": []
  }
 ],
 "metadata": {
  "kernelspec": {
   "display_name": "Python [conda env:base] *",
   "language": "python",
   "name": "conda-base-py"
  },
  "language_info": {
   "codemirror_mode": {
    "name": "ipython",
    "version": 3
   },
   "file_extension": ".py",
   "mimetype": "text/x-python",
   "name": "python",
   "nbconvert_exporter": "python",
   "pygments_lexer": "ipython3",
   "version": "3.12.7"
  }
 },
 "nbformat": 4,
 "nbformat_minor": 5
}
